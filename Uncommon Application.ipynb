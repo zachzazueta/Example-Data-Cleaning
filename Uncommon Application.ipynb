{
 "cells": [
  {
   "cell_type": "markdown",
   "metadata": {},
   "source": [
    "# Data Cleaning for Uncommon\n",
    "\n",
    "## Deliverable\n",
    "### The final sheet will have the following:\n",
    "1) Student Number  \n",
    "2) Score  \n",
    "3) Subject  \n",
    "4) High School  \n",
    "5) Graduating cohort year  \n",
    "- If a student was in 12th grade in 2017-18, they are in the graduating cohort of 2018  \n",
    "  \n",
    "6) A flag indicating if the student passed the exam\n",
    "- An AP exam score of 3, 4, or 5 is considered passing  \n",
    "  \n",
    "7) Demographic information on each student/exam combination including:  \n",
    "- FRPL (Free or Reduced Price Lunch) status  \n",
    "- Ethnicity  \n",
    "- Gender\n",
    "  \n",
    "8) Teacher Name\n",
    "\n",
    "## Key Takeaways\n",
    "### Data Integretity\n",
    "- The AP Results sheet had a number of duplicate values (multiple rows of a student-test pair), with two instances of students having varied scores for the same test.\n",
    "- The Teacher sheet was missing a teacher for English Lang & Composition at UCHS.\n",
    "- The student sheet included one student classified as 'Z' for Ethnicity (assuming this is an error).\n",
    "\n",
    "The solution for cleaning these would be to 1). Better understand the query that pulled in the score data and remove duplicates at the top 2). Update the data source for teacher-subject pairings 3). Consider a dropdown menu for data entry in the student information system for fields like Ethnicity that should be normalized.\n",
    "\n",
    "### Summary - See additional Data Viz at the bottom\n",
    "- Of the 5 High Schools in this data, 3 had students take AP tests in 2018.\n",
    "- 10th, 11th, and 12th graders took AP tests\n",
    "- We end with information about 639 tests taken.\n",
    "- NSA-HS had the highest passing rate (around 61%) and UCHS had the lowest (around 40%).\n",
    "- There is a healthy mix of courses taken, but there seems to be a trend that AP courses with lower participation rates have higher passing rates.\n",
    "- Not FRPL students had a slightly higher passing rate than FRPL students, a difference of 3.2%."
   ]
  },
  {
   "cell_type": "code",
   "execution_count": 1,
   "metadata": {},
   "outputs": [],
   "source": [
    "#Import necessary libraries\n",
    "\n",
    "import pandas as pd\n",
    "import numpy as np\n",
    "import matplotlib.pyplot as plt\n",
    "%matplotlib inline\n",
    "import seaborn as sns"
   ]
  },
  {
   "cell_type": "code",
   "execution_count": 2,
   "metadata": {},
   "outputs": [],
   "source": [
    "#Read in the provided data sheets\n",
    "xls = pd.ExcelFile('Data_Preparation_Exercise.xlsx')\n",
    "df_ap = pd.read_excel(xls, 'AP Results')\n",
    "df_teacher = pd.read_excel(xls, 'Teacher')\n",
    "df_student = pd.read_excel(xls, 'Student Roster')"
   ]
  },
  {
   "cell_type": "code",
   "execution_count": 3,
   "metadata": {
    "scrolled": true
   },
   "outputs": [
    {
     "name": "stdout",
     "output_type": "stream",
     "text": [
      "303000108    7\n",
      "301001368    7\n",
      "301001142    7\n",
      "301001066    7\n",
      "301001058    7\n",
      "            ..\n",
      "301001253    1\n",
      "268258852    1\n",
      "301001251    1\n",
      "301001250    1\n",
      "401000005    1\n",
      "Name: Student Number, Length: 334, dtype: int64\n",
      "2    267\n",
      "3    229\n",
      "1    101\n",
      "4     92\n",
      "5     31\n",
      "Name: Score, dtype: int64\n",
      "World History                   244\n",
      "US History                      157\n",
      "Biology                          96\n",
      "English Lit and Composition      51\n",
      "English Lang and Composition     35\n",
      "Calc AB                          33\n",
      "Environmental Science            27\n",
      "Calc BC                          24\n",
      "US Gov and Politics              20\n",
      "Chemistry                        19\n",
      "Computer Science A               14\n",
      "Name: Subject, dtype: int64\n",
      "9th Grade     507\n",
      "10th Grade    258\n",
      "11th Grade    211\n",
      "12th Grade    134\n",
      "Name: Grade, dtype: int64\n",
      "NSA-HS    410\n",
      "UCHS      398\n",
      "UCC       185\n",
      "UPC        78\n",
      "TNRPHS     39\n",
      "Name: School, dtype: int64\n",
      "205174782    1\n",
      "205376163    1\n",
      "301001369    1\n",
      "214190746    1\n",
      "301001260    1\n",
      "            ..\n",
      "207398207    1\n",
      "205413693    1\n",
      "205948219    1\n",
      "301001301    1\n",
      "301001265    1\n",
      "Name: Student ID, Length: 1110, dtype: int64\n",
      "F    616\n",
      "M    494\n",
      "Name: Gender, dtype: int64\n",
      "Black       906\n",
      "Hispanic    194\n",
      "Asian         5\n",
      "White         4\n",
      "Z             1\n",
      "Name: Ethnicity, dtype: int64\n",
      "F      370\n",
      "FDC    312\n",
      "P      237\n",
      "R      191\n",
      "Name: Lunch Status, dtype: int64\n",
      "World History                   3\n",
      "US History                      3\n",
      "Biology                         3\n",
      "Calc AB                         2\n",
      "Computer Science A              1\n",
      "English Lang and Composition    1\n",
      "US Gov and Politics             1\n",
      "Environmental Science           1\n",
      "English Lit and Composition     1\n",
      "Calc BC                         1\n",
      "Chemistry                       1\n",
      "Name: Subject, dtype: int64\n",
      "NSA-HS    9\n",
      "UCHS      6\n",
      "UCC       3\n",
      "Name: School, dtype: int64\n",
      "Lee          1\n",
      "Amos         1\n",
      "Morgan       1\n",
      "Oktani       1\n",
      "Reddy        1\n",
      "McGovern     1\n",
      "Liang        1\n",
      "Peiser       1\n",
      "Harris       1\n",
      "Monteiro     1\n",
      "Herrera      1\n",
      "Ramirez      1\n",
      "Smith        1\n",
      "Stenson      1\n",
      "Slaughter    1\n",
      "Reese        1\n",
      "Rametti      1\n",
      "Maestas      1\n",
      "Name: Teacher, dtype: int64\n"
     ]
    }
   ],
   "source": [
    "#Inspect value counts across the data and inspect for potential errors\n",
    "x = [df_ap, df_student, df_teacher]\n",
    "\n",
    "for i in x:\n",
    "    for j in i.columns:\n",
    "        print(i[j].value_counts())"
   ]
  },
  {
   "cell_type": "markdown",
   "metadata": {},
   "source": [
    "#### Initial Takeaways\n",
    "\n",
    "AP\n",
    "- Multiple instances of students taking more than one test - tests taken max is 7, min is 1. Still want to double check student subject duplicates.\n",
    "- Mostly 2's and 3's for score.\n",
    "- Don't appear to be any naming mismatches in tests.\n",
    "\n",
    "Student\n",
    "- Roster is heavy on 9th graders, likely due to grade growth at the smaller schools (UPC and TNRPHS) but would want to clarify.\n",
    "- No duplicate student Ids.\n",
    "- One student classified as Z for Ethnicity - will drop.\n",
    "- Assuming that coding for Lunch Status is - Free(F), Reduced(R), Paid in full(P), Free Direct Certified(FDC) - F, R, & FDC will class as FRPL.\n",
    "\n",
    "Teacher\n",
    "- No teachers at UPC and TNRPHS signifies there are no AP courses taught there.\n",
    "- No duplicate teachers.\n",
    "- No naming mismatch in courses."
   ]
  },
  {
   "cell_type": "code",
   "execution_count": 4,
   "metadata": {
    "scrolled": true
   },
   "outputs": [
    {
     "name": "stdout",
     "output_type": "stream",
     "text": [
      "<class 'pandas.core.frame.DataFrame'>\n",
      "RangeIndex: 720 entries, 0 to 719\n",
      "Data columns (total 3 columns):\n",
      "Student Number    720 non-null int64\n",
      "Score             720 non-null int64\n",
      "Subject           720 non-null object\n",
      "dtypes: int64(2), object(1)\n",
      "memory usage: 17.0+ KB\n",
      "None\n",
      "//\n",
      "<class 'pandas.core.frame.DataFrame'>\n",
      "RangeIndex: 1110 entries, 0 to 1109\n",
      "Data columns (total 6 columns):\n",
      "Grade           1110 non-null object\n",
      "School          1110 non-null object\n",
      "Student ID      1110 non-null int64\n",
      "Gender          1110 non-null object\n",
      "Ethnicity       1110 non-null object\n",
      "Lunch Status    1110 non-null object\n",
      "dtypes: int64(1), object(5)\n",
      "memory usage: 52.2+ KB\n",
      "None\n",
      "//\n",
      "<class 'pandas.core.frame.DataFrame'>\n",
      "RangeIndex: 18 entries, 0 to 17\n",
      "Data columns (total 3 columns):\n",
      "Subject    18 non-null object\n",
      "School     18 non-null object\n",
      "Teacher    18 non-null object\n",
      "dtypes: object(3)\n",
      "memory usage: 560.0+ bytes\n",
      "None\n",
      "//\n"
     ]
    }
   ],
   "source": [
    "#Checking for null values, inspecting data types\n",
    "for i in x:\n",
    "    print(i.info())\n",
    "    print('//')"
   ]
  },
  {
   "cell_type": "markdown",
   "metadata": {},
   "source": [
    "This is a double check there are no null values - there are not. Having already inspected the values, we know there are no outliers and can begin to manipulate the data."
   ]
  },
  {
   "cell_type": "markdown",
   "metadata": {},
   "source": [
    "### Data cleaning"
   ]
  },
  {
   "cell_type": "code",
   "execution_count": 5,
   "metadata": {},
   "outputs": [
    {
     "data": {
      "text/plain": [
       "205192396Biology                         3\n",
       "274858554US History                      2\n",
       "274858554Biology                         2\n",
       "204010599Environmental Science           2\n",
       "200052033Environmental Science           2\n",
       "                                        ..\n",
       "303000023English Lang and Composition    1\n",
       "203108428World History                   1\n",
       "301001198World History                   1\n",
       "306001140US History                      1\n",
       "205810427US History                      1\n",
       "Name: check, Length: 639, dtype: int64"
      ]
     },
     "execution_count": 5,
     "metadata": {},
     "output_type": "execute_result"
    }
   ],
   "source": [
    "#The number of APs that some students had (7) seemed high for one year - let's c\n",
    "#heck for duplicate rows (same subject, student id, and score) in the AP table\n",
    "df_ap['check'] = df_ap['Student Number'].astype('str') + df_ap['Subject']\n",
    "df_ap.check.value_counts()"
   ]
  },
  {
   "cell_type": "code",
   "execution_count": 6,
   "metadata": {},
   "outputs": [
    {
     "name": "stdout",
     "output_type": "stream",
     "text": [
      "720\n"
     ]
    },
    {
     "data": {
      "text/plain": [
       "641"
      ]
     },
     "execution_count": 6,
     "metadata": {},
     "output_type": "execute_result"
    }
   ],
   "source": [
    "#This function will see if all values in a row are duplicated in another row - we drop \n",
    "#79 instances of duplicated values\n",
    "print(len(df_ap))\n",
    "df_ap = df_ap.drop_duplicates()\n",
    "len(df_ap)"
   ]
  },
  {
   "cell_type": "code",
   "execution_count": 7,
   "metadata": {},
   "outputs": [
    {
     "data": {
      "text/plain": [
       "206316473World History                   2\n",
       "204899629World History                   2\n",
       "204872006World History                   1\n",
       "203061916US History                      1\n",
       "202996872Calc AB                         1\n",
       "                                        ..\n",
       "206026312English Lang and Composition    1\n",
       "401000041English Lit and Composition     1\n",
       "205004575US History                      1\n",
       "301001086World History                   1\n",
       "205810427US History                      1\n",
       "Name: check, Length: 639, dtype: int64"
      ]
     },
     "execution_count": 7,
     "metadata": {},
     "output_type": "execute_result"
    }
   ],
   "source": [
    "#Run a final check for duplicates in our check column\n",
    "df_ap.check.value_counts()"
   ]
  },
  {
   "cell_type": "markdown",
   "metadata": {},
   "source": [
    "There are still two students with duplicate subjects, however these seem to have different scores for the same test. Let's inspect that:"
   ]
  },
  {
   "cell_type": "code",
   "execution_count": 8,
   "metadata": {},
   "outputs": [
    {
     "data": {
      "text/html": [
       "<div>\n",
       "<style scoped>\n",
       "    .dataframe tbody tr th:only-of-type {\n",
       "        vertical-align: middle;\n",
       "    }\n",
       "\n",
       "    .dataframe tbody tr th {\n",
       "        vertical-align: top;\n",
       "    }\n",
       "\n",
       "    .dataframe thead th {\n",
       "        text-align: right;\n",
       "    }\n",
       "</style>\n",
       "<table border=\"1\" class=\"dataframe\">\n",
       "  <thead>\n",
       "    <tr style=\"text-align: right;\">\n",
       "      <th></th>\n",
       "      <th>Student Number</th>\n",
       "      <th>Score</th>\n",
       "      <th>Subject</th>\n",
       "      <th>check</th>\n",
       "    </tr>\n",
       "  </thead>\n",
       "  <tbody>\n",
       "    <tr>\n",
       "      <td>381</td>\n",
       "      <td>204899629</td>\n",
       "      <td>1</td>\n",
       "      <td>World History</td>\n",
       "      <td>204899629World History</td>\n",
       "    </tr>\n",
       "    <tr>\n",
       "      <td>429</td>\n",
       "      <td>206316473</td>\n",
       "      <td>2</td>\n",
       "      <td>World History</td>\n",
       "      <td>206316473World History</td>\n",
       "    </tr>\n",
       "    <tr>\n",
       "      <td>579</td>\n",
       "      <td>204899629</td>\n",
       "      <td>2</td>\n",
       "      <td>World History</td>\n",
       "      <td>204899629World History</td>\n",
       "    </tr>\n",
       "    <tr>\n",
       "      <td>606</td>\n",
       "      <td>206316473</td>\n",
       "      <td>1</td>\n",
       "      <td>World History</td>\n",
       "      <td>206316473World History</td>\n",
       "    </tr>\n",
       "  </tbody>\n",
       "</table>\n",
       "</div>"
      ],
      "text/plain": [
       "     Student Number  Score        Subject                   check\n",
       "381       204899629      1  World History  204899629World History\n",
       "429       206316473      2  World History  206316473World History\n",
       "579       204899629      2  World History  204899629World History\n",
       "606       206316473      1  World History  206316473World History"
      ]
     },
     "execution_count": 8,
     "metadata": {},
     "output_type": "execute_result"
    }
   ],
   "source": [
    "#Inspect the two students with duplicate test names\n",
    "df_ap[(df_ap['Student Number'] == 206316473) | (df_ap['Student Number'] == 204899629)]"
   ]
  },
  {
   "cell_type": "code",
   "execution_count": 9,
   "metadata": {},
   "outputs": [],
   "source": [
    "#I am dropping the lower score, giving students the benefit of the doubt for this exercise.\n",
    "df_ap = df_ap.drop([381, 606])"
   ]
  },
  {
   "cell_type": "markdown",
   "metadata": {},
   "source": [
    "### Data Engineering"
   ]
  },
  {
   "cell_type": "code",
   "execution_count": 10,
   "metadata": {},
   "outputs": [],
   "source": [
    "#First, merge the df_student dataframe to the df_ap dataframe. This is a left Join, \n",
    "#keeping all students who have AP score data and dropping those who had no test data. \n",
    "#Join on Student ID/Student Number\n",
    "\n",
    "scores = df_ap.merge(df_student, how='left', left_on='Student Number', right_on='Student ID')"
   ]
  },
  {
   "cell_type": "code",
   "execution_count": 11,
   "metadata": {},
   "outputs": [
    {
     "data": {
      "text/plain": [
       "Environmental ScienceUCHS             1\n",
       "US Gov and PoliticsUCHS               1\n",
       "Calc ABNSA-HS                         1\n",
       "Calc BCNSA-HS                         1\n",
       "BiologyUCHS                           1\n",
       "BiologyUCC                            1\n",
       "English Lang and CompositionNSA-HS    1\n",
       "Computer Science ANSA-HS              1\n",
       "BiologyNSA-HS                         1\n",
       "US HistoryUCC                         1\n",
       "World HistoryUCC                      1\n",
       "World HistoryNSA-HS                   1\n",
       "US HistoryNSA-HS                      1\n",
       "Calc ABUCHS                           1\n",
       "World HistoryUCHS                     1\n",
       "US HistoryUCHS                        1\n",
       "English Lit and CompositionNSA-HS     1\n",
       "ChemistryNSA-HS                       1\n",
       "Name: teachkey, dtype: int64"
      ]
     },
     "execution_count": 11,
     "metadata": {},
     "output_type": "execute_result"
    }
   ],
   "source": [
    "#Generate a merge key to join the df_teacher table to scores on. Do this by concatenating \n",
    "#school and subject\n",
    "df_teacher['teachkey'] = df_teacher['Subject']+df_teacher['School']\n",
    "\n",
    "#Need to double check the key is unique and there are not multiple teachers per the same \n",
    "#AP subject at each school\n",
    "df_teacher['teachkey'].value_counts()"
   ]
  },
  {
   "cell_type": "code",
   "execution_count": 12,
   "metadata": {},
   "outputs": [],
   "source": [
    "#There aren't, so I'm okay to generate a similar key for the scores table and join \n",
    "#teacher name on that key\n",
    "scores['teachkey'] = scores['Subject']+scores['School']\n",
    "\n",
    "#Merge teacher information from df_teacher\n",
    "scores = scores.merge(df_teacher, how='left', on='teachkey')"
   ]
  },
  {
   "cell_type": "code",
   "execution_count": 13,
   "metadata": {},
   "outputs": [],
   "source": [
    "#Generate fields for Graduating cohort year, FRPL status, and passing using basic conditionals\n",
    "\n",
    "scores['Graduating'] = ['2018' if i == '12th Grade' else '2019' if i == '11th Grade' else '2020' \n",
    "                        if i == '10th Grade' else '2021' for i in scores['Grade']]\n",
    "\n",
    "scores['FRPL'] = ['Not FRPL' if i == 'P' else 'FRPL' for i in scores['Lunch Status']]\n",
    "\n",
    "scores['Passing'] = ['Passing' if i > 2 else 'Did not pass' for i in scores['Score']]"
   ]
  },
  {
   "cell_type": "code",
   "execution_count": 14,
   "metadata": {},
   "outputs": [
    {
     "data": {
      "text/plain": [
       "Index(['Student Number', 'Score', 'Subject_x', 'check', 'Grade', 'School_x',\n",
       "       'Student ID', 'Gender', 'Ethnicity', 'Lunch Status', 'teachkey',\n",
       "       'Subject_y', 'School_y', 'Teacher', 'Graduating', 'FRPL', 'Passing'],\n",
       "      dtype='object')"
      ]
     },
     "execution_count": 14,
     "metadata": {},
     "output_type": "execute_result"
    }
   ],
   "source": [
    "#Print column names to restructure the table for final output \n",
    "scores.columns"
   ]
  },
  {
   "cell_type": "code",
   "execution_count": 15,
   "metadata": {},
   "outputs": [],
   "source": [
    "#Restructure and rename the fields\n",
    "scores = scores[['Student Number', 'Score', 'Subject_x', 'School_x', 'Graduating', \n",
    "                 'Passing', 'FRPL', 'Ethnicity', 'Gender', 'Teacher']]\n",
    "\n",
    "scores = scores.rename(columns={\"Subject_x\": \"Subject\", \"School_x\": \"High School\", \n",
    "                                \"Graduating\": \"Grad cohort year\"})\n",
    "\n",
    "#Sort the dataframe by Student Number to group student scores\n",
    "scores = scores.sort_values('Student Number')"
   ]
  },
  {
   "cell_type": "code",
   "execution_count": 16,
   "metadata": {},
   "outputs": [
    {
     "data": {
      "text/html": [
       "<div>\n",
       "<style scoped>\n",
       "    .dataframe tbody tr th:only-of-type {\n",
       "        vertical-align: middle;\n",
       "    }\n",
       "\n",
       "    .dataframe tbody tr th {\n",
       "        vertical-align: top;\n",
       "    }\n",
       "\n",
       "    .dataframe thead th {\n",
       "        text-align: right;\n",
       "    }\n",
       "</style>\n",
       "<table border=\"1\" class=\"dataframe\">\n",
       "  <thead>\n",
       "    <tr style=\"text-align: right;\">\n",
       "      <th></th>\n",
       "      <th>Student Number</th>\n",
       "      <th>Score</th>\n",
       "      <th>Subject</th>\n",
       "      <th>High School</th>\n",
       "      <th>Grad cohort year</th>\n",
       "      <th>Passing</th>\n",
       "      <th>FRPL</th>\n",
       "      <th>Ethnicity</th>\n",
       "      <th>Gender</th>\n",
       "      <th>Teacher</th>\n",
       "    </tr>\n",
       "  </thead>\n",
       "  <tbody>\n",
       "    <tr>\n",
       "      <td>9</td>\n",
       "      <td>142021427</td>\n",
       "      <td>3</td>\n",
       "      <td>Biology</td>\n",
       "      <td>NSA-HS</td>\n",
       "      <td>2018</td>\n",
       "      <td>Passing</td>\n",
       "      <td>Not FRPL</td>\n",
       "      <td>Black</td>\n",
       "      <td>F</td>\n",
       "      <td>Smith</td>\n",
       "    </tr>\n",
       "    <tr>\n",
       "      <td>608</td>\n",
       "      <td>142021427</td>\n",
       "      <td>1</td>\n",
       "      <td>World History</td>\n",
       "      <td>NSA-HS</td>\n",
       "      <td>2018</td>\n",
       "      <td>Did not pass</td>\n",
       "      <td>Not FRPL</td>\n",
       "      <td>Black</td>\n",
       "      <td>F</td>\n",
       "      <td>Maestas</td>\n",
       "    </tr>\n",
       "    <tr>\n",
       "      <td>255</td>\n",
       "      <td>142021427</td>\n",
       "      <td>4</td>\n",
       "      <td>US History</td>\n",
       "      <td>NSA-HS</td>\n",
       "      <td>2018</td>\n",
       "      <td>Passing</td>\n",
       "      <td>Not FRPL</td>\n",
       "      <td>Black</td>\n",
       "      <td>F</td>\n",
       "      <td>Peiser</td>\n",
       "    </tr>\n",
       "    <tr>\n",
       "      <td>75</td>\n",
       "      <td>142021427</td>\n",
       "      <td>1</td>\n",
       "      <td>Calc AB</td>\n",
       "      <td>NSA-HS</td>\n",
       "      <td>2018</td>\n",
       "      <td>Did not pass</td>\n",
       "      <td>Not FRPL</td>\n",
       "      <td>Black</td>\n",
       "      <td>F</td>\n",
       "      <td>Ramirez</td>\n",
       "    </tr>\n",
       "    <tr>\n",
       "      <td>237</td>\n",
       "      <td>200051324</td>\n",
       "      <td>4</td>\n",
       "      <td>US Gov and Politics</td>\n",
       "      <td>UCHS</td>\n",
       "      <td>2018</td>\n",
       "      <td>Passing</td>\n",
       "      <td>FRPL</td>\n",
       "      <td>Black</td>\n",
       "      <td>F</td>\n",
       "      <td>Amos</td>\n",
       "    </tr>\n",
       "    <tr>\n",
       "      <td>...</td>\n",
       "      <td>...</td>\n",
       "      <td>...</td>\n",
       "      <td>...</td>\n",
       "      <td>...</td>\n",
       "      <td>...</td>\n",
       "      <td>...</td>\n",
       "      <td>...</td>\n",
       "      <td>...</td>\n",
       "      <td>...</td>\n",
       "      <td>...</td>\n",
       "    </tr>\n",
       "    <tr>\n",
       "      <td>131</td>\n",
       "      <td>700000041</td>\n",
       "      <td>3</td>\n",
       "      <td>Chemistry</td>\n",
       "      <td>NSA-HS</td>\n",
       "      <td>2019</td>\n",
       "      <td>Passing</td>\n",
       "      <td>FRPL</td>\n",
       "      <td>Black</td>\n",
       "      <td>F</td>\n",
       "      <td>Harris</td>\n",
       "    </tr>\n",
       "    <tr>\n",
       "      <td>204</td>\n",
       "      <td>700000043</td>\n",
       "      <td>3</td>\n",
       "      <td>English Lit and Composition</td>\n",
       "      <td>NSA-HS</td>\n",
       "      <td>2019</td>\n",
       "      <td>Passing</td>\n",
       "      <td>Not FRPL</td>\n",
       "      <td>Black</td>\n",
       "      <td>F</td>\n",
       "      <td>Herrera</td>\n",
       "    </tr>\n",
       "    <tr>\n",
       "      <td>561</td>\n",
       "      <td>700000043</td>\n",
       "      <td>3</td>\n",
       "      <td>World History</td>\n",
       "      <td>NSA-HS</td>\n",
       "      <td>2019</td>\n",
       "      <td>Passing</td>\n",
       "      <td>Not FRPL</td>\n",
       "      <td>Black</td>\n",
       "      <td>F</td>\n",
       "      <td>Maestas</td>\n",
       "    </tr>\n",
       "    <tr>\n",
       "      <td>136</td>\n",
       "      <td>700000058</td>\n",
       "      <td>2</td>\n",
       "      <td>Chemistry</td>\n",
       "      <td>NSA-HS</td>\n",
       "      <td>2019</td>\n",
       "      <td>Did not pass</td>\n",
       "      <td>FRPL</td>\n",
       "      <td>Black</td>\n",
       "      <td>M</td>\n",
       "      <td>Harris</td>\n",
       "    </tr>\n",
       "    <tr>\n",
       "      <td>351</td>\n",
       "      <td>8268663994</td>\n",
       "      <td>2</td>\n",
       "      <td>World History</td>\n",
       "      <td>NSA-HS</td>\n",
       "      <td>2020</td>\n",
       "      <td>Did not pass</td>\n",
       "      <td>FRPL</td>\n",
       "      <td>Black</td>\n",
       "      <td>F</td>\n",
       "      <td>Maestas</td>\n",
       "    </tr>\n",
       "  </tbody>\n",
       "</table>\n",
       "<p>639 rows × 10 columns</p>\n",
       "</div>"
      ],
      "text/plain": [
       "     Student Number  Score                      Subject High School  \\\n",
       "9         142021427      3                      Biology      NSA-HS   \n",
       "608       142021427      1                World History      NSA-HS   \n",
       "255       142021427      4                   US History      NSA-HS   \n",
       "75        142021427      1                      Calc AB      NSA-HS   \n",
       "237       200051324      4          US Gov and Politics        UCHS   \n",
       "..              ...    ...                          ...         ...   \n",
       "131       700000041      3                    Chemistry      NSA-HS   \n",
       "204       700000043      3  English Lit and Composition      NSA-HS   \n",
       "561       700000043      3                World History      NSA-HS   \n",
       "136       700000058      2                    Chemistry      NSA-HS   \n",
       "351      8268663994      2                World History      NSA-HS   \n",
       "\n",
       "    Grad cohort year       Passing      FRPL Ethnicity Gender  Teacher  \n",
       "9               2018       Passing  Not FRPL     Black      F    Smith  \n",
       "608             2018  Did not pass  Not FRPL     Black      F  Maestas  \n",
       "255             2018       Passing  Not FRPL     Black      F   Peiser  \n",
       "75              2018  Did not pass  Not FRPL     Black      F  Ramirez  \n",
       "237             2018       Passing      FRPL     Black      F     Amos  \n",
       "..               ...           ...       ...       ...    ...      ...  \n",
       "131             2019       Passing      FRPL     Black      F   Harris  \n",
       "204             2019       Passing  Not FRPL     Black      F  Herrera  \n",
       "561             2019       Passing  Not FRPL     Black      F  Maestas  \n",
       "136             2019  Did not pass      FRPL     Black      M   Harris  \n",
       "351             2020  Did not pass      FRPL     Black      F  Maestas  \n",
       "\n",
       "[639 rows x 10 columns]"
      ]
     },
     "execution_count": 16,
     "metadata": {},
     "output_type": "execute_result"
    }
   ],
   "source": [
    "#Preview the final table\n",
    "scores"
   ]
  },
  {
   "cell_type": "markdown",
   "metadata": {},
   "source": [
    "### Final Inspection"
   ]
  },
  {
   "cell_type": "code",
   "execution_count": 17,
   "metadata": {
    "scrolled": false
   },
   "outputs": [
    {
     "name": "stdout",
     "output_type": "stream",
     "text": [
      "<class 'pandas.core.frame.DataFrame'>\n",
      "Int64Index: 639 entries, 9 to 351\n",
      "Data columns (total 10 columns):\n",
      "Student Number      639 non-null int64\n",
      "Score               639 non-null int64\n",
      "Subject             639 non-null object\n",
      "High School         639 non-null object\n",
      "Grad cohort year    639 non-null object\n",
      "Passing             639 non-null object\n",
      "FRPL                639 non-null object\n",
      "Ethnicity           639 non-null object\n",
      "Gender              639 non-null object\n",
      "Teacher             626 non-null object\n",
      "dtypes: int64(2), object(8)\n",
      "memory usage: 54.9+ KB\n"
     ]
    }
   ],
   "source": [
    "scores.info()"
   ]
  },
  {
   "cell_type": "markdown",
   "metadata": {},
   "source": [
    "We see there are null values in the Teacher column - it looks like there was no teacher listed for English Lang and Composition at UCHS. For now, I am keeping this data, assuming the data can easily be filled into the Teacher table prior to an upload and knowing that score information is more important than the one column with missing values."
   ]
  },
  {
   "cell_type": "code",
   "execution_count": 18,
   "metadata": {},
   "outputs": [
    {
     "data": {
      "text/html": [
       "<div>\n",
       "<style scoped>\n",
       "    .dataframe tbody tr th:only-of-type {\n",
       "        vertical-align: middle;\n",
       "    }\n",
       "\n",
       "    .dataframe tbody tr th {\n",
       "        vertical-align: top;\n",
       "    }\n",
       "\n",
       "    .dataframe thead th {\n",
       "        text-align: right;\n",
       "    }\n",
       "</style>\n",
       "<table border=\"1\" class=\"dataframe\">\n",
       "  <thead>\n",
       "    <tr style=\"text-align: right;\">\n",
       "      <th></th>\n",
       "      <th>Student Number</th>\n",
       "      <th>Score</th>\n",
       "      <th>Subject</th>\n",
       "      <th>High School</th>\n",
       "      <th>Grad cohort year</th>\n",
       "      <th>Passing</th>\n",
       "      <th>FRPL</th>\n",
       "      <th>Ethnicity</th>\n",
       "      <th>Gender</th>\n",
       "      <th>Teacher</th>\n",
       "    </tr>\n",
       "  </thead>\n",
       "  <tbody>\n",
       "    <tr>\n",
       "      <td>162</td>\n",
       "      <td>200051324</td>\n",
       "      <td>4</td>\n",
       "      <td>English Lang and Composition</td>\n",
       "      <td>UCHS</td>\n",
       "      <td>2018</td>\n",
       "      <td>Passing</td>\n",
       "      <td>FRPL</td>\n",
       "      <td>Black</td>\n",
       "      <td>F</td>\n",
       "      <td>NaN</td>\n",
       "    </tr>\n",
       "    <tr>\n",
       "      <td>161</td>\n",
       "      <td>201823614</td>\n",
       "      <td>2</td>\n",
       "      <td>English Lang and Composition</td>\n",
       "      <td>UCHS</td>\n",
       "      <td>2018</td>\n",
       "      <td>Did not pass</td>\n",
       "      <td>FRPL</td>\n",
       "      <td>Black</td>\n",
       "      <td>F</td>\n",
       "      <td>NaN</td>\n",
       "    </tr>\n",
       "    <tr>\n",
       "      <td>159</td>\n",
       "      <td>203089842</td>\n",
       "      <td>4</td>\n",
       "      <td>English Lang and Composition</td>\n",
       "      <td>UCHS</td>\n",
       "      <td>2018</td>\n",
       "      <td>Passing</td>\n",
       "      <td>FRPL</td>\n",
       "      <td>Black</td>\n",
       "      <td>F</td>\n",
       "      <td>NaN</td>\n",
       "    </tr>\n",
       "    <tr>\n",
       "      <td>164</td>\n",
       "      <td>203371976</td>\n",
       "      <td>4</td>\n",
       "      <td>English Lang and Composition</td>\n",
       "      <td>UCHS</td>\n",
       "      <td>2018</td>\n",
       "      <td>Passing</td>\n",
       "      <td>FRPL</td>\n",
       "      <td>Black</td>\n",
       "      <td>F</td>\n",
       "      <td>NaN</td>\n",
       "    </tr>\n",
       "    <tr>\n",
       "      <td>152</td>\n",
       "      <td>204010599</td>\n",
       "      <td>2</td>\n",
       "      <td>English Lang and Composition</td>\n",
       "      <td>UCHS</td>\n",
       "      <td>2018</td>\n",
       "      <td>Did not pass</td>\n",
       "      <td>Not FRPL</td>\n",
       "      <td>Hispanic</td>\n",
       "      <td>F</td>\n",
       "      <td>NaN</td>\n",
       "    </tr>\n",
       "    <tr>\n",
       "      <td>163</td>\n",
       "      <td>206026312</td>\n",
       "      <td>2</td>\n",
       "      <td>English Lang and Composition</td>\n",
       "      <td>UCHS</td>\n",
       "      <td>2018</td>\n",
       "      <td>Did not pass</td>\n",
       "      <td>FRPL</td>\n",
       "      <td>Black</td>\n",
       "      <td>F</td>\n",
       "      <td>NaN</td>\n",
       "    </tr>\n",
       "    <tr>\n",
       "      <td>158</td>\n",
       "      <td>215509670</td>\n",
       "      <td>2</td>\n",
       "      <td>English Lang and Composition</td>\n",
       "      <td>UCHS</td>\n",
       "      <td>2018</td>\n",
       "      <td>Did not pass</td>\n",
       "      <td>FRPL</td>\n",
       "      <td>Black</td>\n",
       "      <td>F</td>\n",
       "      <td>NaN</td>\n",
       "    </tr>\n",
       "    <tr>\n",
       "      <td>157</td>\n",
       "      <td>270039415</td>\n",
       "      <td>2</td>\n",
       "      <td>English Lang and Composition</td>\n",
       "      <td>UCHS</td>\n",
       "      <td>2018</td>\n",
       "      <td>Did not pass</td>\n",
       "      <td>FRPL</td>\n",
       "      <td>Black</td>\n",
       "      <td>F</td>\n",
       "      <td>NaN</td>\n",
       "    </tr>\n",
       "    <tr>\n",
       "      <td>154</td>\n",
       "      <td>270081946</td>\n",
       "      <td>2</td>\n",
       "      <td>English Lang and Composition</td>\n",
       "      <td>UCHS</td>\n",
       "      <td>2018</td>\n",
       "      <td>Did not pass</td>\n",
       "      <td>FRPL</td>\n",
       "      <td>Hispanic</td>\n",
       "      <td>M</td>\n",
       "      <td>NaN</td>\n",
       "    </tr>\n",
       "    <tr>\n",
       "      <td>153</td>\n",
       "      <td>270485832</td>\n",
       "      <td>3</td>\n",
       "      <td>English Lang and Composition</td>\n",
       "      <td>UCHS</td>\n",
       "      <td>2018</td>\n",
       "      <td>Passing</td>\n",
       "      <td>Not FRPL</td>\n",
       "      <td>Black</td>\n",
       "      <td>F</td>\n",
       "      <td>NaN</td>\n",
       "    </tr>\n",
       "    <tr>\n",
       "      <td>160</td>\n",
       "      <td>274080092</td>\n",
       "      <td>2</td>\n",
       "      <td>English Lang and Composition</td>\n",
       "      <td>UCHS</td>\n",
       "      <td>2018</td>\n",
       "      <td>Did not pass</td>\n",
       "      <td>FRPL</td>\n",
       "      <td>Black</td>\n",
       "      <td>F</td>\n",
       "      <td>NaN</td>\n",
       "    </tr>\n",
       "    <tr>\n",
       "      <td>156</td>\n",
       "      <td>275078293</td>\n",
       "      <td>2</td>\n",
       "      <td>English Lang and Composition</td>\n",
       "      <td>UCHS</td>\n",
       "      <td>2018</td>\n",
       "      <td>Did not pass</td>\n",
       "      <td>FRPL</td>\n",
       "      <td>Black</td>\n",
       "      <td>F</td>\n",
       "      <td>NaN</td>\n",
       "    </tr>\n",
       "    <tr>\n",
       "      <td>155</td>\n",
       "      <td>275078996</td>\n",
       "      <td>4</td>\n",
       "      <td>English Lang and Composition</td>\n",
       "      <td>UCHS</td>\n",
       "      <td>2018</td>\n",
       "      <td>Passing</td>\n",
       "      <td>FRPL</td>\n",
       "      <td>Black</td>\n",
       "      <td>M</td>\n",
       "      <td>NaN</td>\n",
       "    </tr>\n",
       "  </tbody>\n",
       "</table>\n",
       "</div>"
      ],
      "text/plain": [
       "     Student Number  Score                       Subject High School  \\\n",
       "162       200051324      4  English Lang and Composition        UCHS   \n",
       "161       201823614      2  English Lang and Composition        UCHS   \n",
       "159       203089842      4  English Lang and Composition        UCHS   \n",
       "164       203371976      4  English Lang and Composition        UCHS   \n",
       "152       204010599      2  English Lang and Composition        UCHS   \n",
       "163       206026312      2  English Lang and Composition        UCHS   \n",
       "158       215509670      2  English Lang and Composition        UCHS   \n",
       "157       270039415      2  English Lang and Composition        UCHS   \n",
       "154       270081946      2  English Lang and Composition        UCHS   \n",
       "153       270485832      3  English Lang and Composition        UCHS   \n",
       "160       274080092      2  English Lang and Composition        UCHS   \n",
       "156       275078293      2  English Lang and Composition        UCHS   \n",
       "155       275078996      4  English Lang and Composition        UCHS   \n",
       "\n",
       "    Grad cohort year       Passing      FRPL Ethnicity Gender Teacher  \n",
       "162             2018       Passing      FRPL     Black      F     NaN  \n",
       "161             2018  Did not pass      FRPL     Black      F     NaN  \n",
       "159             2018       Passing      FRPL     Black      F     NaN  \n",
       "164             2018       Passing      FRPL     Black      F     NaN  \n",
       "152             2018  Did not pass  Not FRPL  Hispanic      F     NaN  \n",
       "163             2018  Did not pass      FRPL     Black      F     NaN  \n",
       "158             2018  Did not pass      FRPL     Black      F     NaN  \n",
       "157             2018  Did not pass      FRPL     Black      F     NaN  \n",
       "154             2018  Did not pass      FRPL  Hispanic      M     NaN  \n",
       "153             2018       Passing  Not FRPL     Black      F     NaN  \n",
       "160             2018  Did not pass      FRPL     Black      F     NaN  \n",
       "156             2018  Did not pass      FRPL     Black      F     NaN  \n",
       "155             2018       Passing      FRPL     Black      M     NaN  "
      ]
     },
     "execution_count": 18,
     "metadata": {},
     "output_type": "execute_result"
    }
   ],
   "source": [
    "scores[scores['Teacher'].isna()]"
   ]
  },
  {
   "cell_type": "code",
   "execution_count": 19,
   "metadata": {},
   "outputs": [],
   "source": [
    "#Export data to Excel sheet for data load\n",
    "scores.to_excel('Zazueta.Zach.DataPrepTask.xlsx', index=False)"
   ]
  },
  {
   "cell_type": "markdown",
   "metadata": {},
   "source": [
    "### Lite Data Viz"
   ]
  },
  {
   "cell_type": "markdown",
   "metadata": {},
   "source": [
    "The below Violin plot shows the density of score distributions across graduating year cohort, with size of the overall plots representing the total proportion of students in the stated grad year taking AP tests.\n",
    "\n",
    "We can see that Seniors (2018) and Juniors (2019) have median score (white dot) of 3 while Sophomores have a median score of 2. There were more seniors taking AP tests than Juniors, and Juniors were followed by Sophomores. Seniors were more likely to score a 2 than a 3, while Juniors and Sophomores were about as likely to score a 3 as they were a 2."
   ]
  },
  {
   "cell_type": "code",
   "execution_count": 20,
   "metadata": {},
   "outputs": [
    {
     "data": {
      "image/png": "[encoded data removed]",
      "text/plain": [
       "<Figure size 720x432 with 1 Axes>"
      ]
     },
     "metadata": {
      "needs_background": "light"
     },
     "output_type": "display_data"
    }
   ],
   "source": [
    "plt.figure(figsize=(10,6))\n",
    "sns.violinplot(x='Grad cohort year', y='Score', data=scores, scale='count');"
   ]
  },
  {
   "cell_type": "markdown",
   "metadata": {},
   "source": [
    "In the below breakout by grad year, we can see that NSA-HS had the highest average score across all grades. Juniors at UCC performed better on average than Juniors at UCHS, however Sophomores at UCHS outperformed those at UCC (in terms of average score).\n",
    "\n",
    "NSA-HS and UCHS seem to have a consistent average score across all grade levels, while UCC Juniors appear to outperform Sophomores."
   ]
  },
  {
   "cell_type": "code",
   "execution_count": 21,
   "metadata": {},
   "outputs": [
    {
     "data": {
      "text/plain": [
       "<Figure size 1152x864 with 0 Axes>"
      ]
     },
     "metadata": {},
     "output_type": "display_data"
    },
    {
     "data": {
      "image/png": "[encoded data removed]",
      "text/plain": [
       "<Figure size 1080x360 with 3 Axes>"
      ]
     },
     "metadata": {
      "needs_background": "light"
     },
     "output_type": "display_data"
    }
   ],
   "source": [
    "plt.figure(figsize=(16,12))\n",
    "sns.catplot(x='High School', y='Score', col='Grad cohort year', data=scores, kind='bar');"
   ]
  },
  {
   "cell_type": "markdown",
   "metadata": {},
   "source": [
    "The below stacked bar chart shows the counts of test takers who passed vs those who did not pass at each school, frpl designation, gender, and ethnicity. \n",
    "\n",
    "It is clear that NSA-HS had the most test takes, while UCC had the least. NSA-HS had the highest pass rate (around 60%) while UCHS fell around 40%.\n",
    "\n",
    "Non-FRPL students had a slightly higher (~3.2%) pass rate.\n",
    "\n",
    "There were significantly more female students taking AP tests, however they had a slightly lower pass rate than their male counterparts.\n",
    "\n",
    "The Asian students who took AP tests were significantly fewer than the Hispanic and Black test takers, however they saw pass rates above 80% while Hispanic and Black student cohorts passed at similar rates near 50%."
   ]
  },
  {
   "cell_type": "code",
   "execution_count": 22,
   "metadata": {},
   "outputs": [
    {
     "data": {
      "image/png": "[encoded data removed]",
      "text/plain": [
       "<Figure size 1008x1728 with 8 Axes>"
      ]
     },
     "metadata": {
      "needs_background": "light"
     },
     "output_type": "display_data"
    }
   ],
   "source": [
    "fig, axs = plt.subplots(4,2, figsize = (14,24))\n",
    "plt.subplots_adjust(wspace=0.6, hspace=0.6)\n",
    "\n",
    "schools = list(set(scores['High School']))\n",
    "frpl = list(set(scores['FRPL']))\n",
    "gender = list(set(scores['Gender']))\n",
    "ethnicity = list(set(scores['Ethnicity']))\n",
    "\n",
    "metrics = {'High School': schools, 'FRPL': frpl, 'Gender': gender, \n",
    "           'Ethnicity': ethnicity}\n",
    "\n",
    "a = 0\n",
    "\n",
    "for i, j in enumerate(metrics.keys()):\n",
    "    passing = []\n",
    "    notpassing = []\n",
    "    y = {}\n",
    "    z = metrics[j]\n",
    "    for k in z:\n",
    "        x = scores[scores[j] == k]\n",
    "        passing.append(len(x[x['Passing'] == 'Passing']))\n",
    "        notpassing.append(len(x[x['Passing'] == 'Did not pass']))\n",
    "        \n",
    "    y[j] = z\n",
    "    y['passing'] = passing\n",
    "    y['notpassing'] = notpassing\n",
    "    \n",
    "    N = len(passing)\n",
    "    ind = np.arange(N)\n",
    "    ticks = list(range(N))\n",
    "\n",
    "    df = pd.DataFrame.from_dict(y)\n",
    "    df = df.set_index(j)\n",
    "\n",
    "    axs[a,0].bar(ind, df['passing'], width=0.6)\n",
    "    axs[a,0].bar(ind, df['notpassing'], bottom=df.passing, width=0.6)\n",
    "    axs[a,0].set_title('Count of test takers')\n",
    "    axs[a,0].set_xlabel(j)\n",
    "    axs[a,0].set_xticks(ticks)\n",
    "    axs[a,0].set_xticklabels(z, fontdict = {'rotation': 45})\n",
    "    \n",
    "    df['passrate'] = (df['passing'] / (df['passing'] + df['notpassing']))*100\n",
    "    \n",
    "    axs[a,1].bar(ind, df['passrate'], width=0.6)\n",
    "    axs[a,1].set_title('Percentage of students passing')\n",
    "    axs[a,1].set_xlabel(j)\n",
    "    axs[a,1].set_xticks(ticks)\n",
    "    axs[a,1].set_xticklabels(z, fontdict = {'rotation': 45})\n",
    "    a += 1"
   ]
  },
  {
   "cell_type": "markdown",
   "metadata": {},
   "source": [
    "Taking a quick look at subjects, we can see that World and US History are the courses with the highest participation rates, with STEM courses having the lowest participation rates."
   ]
  },
  {
   "cell_type": "code",
   "execution_count": 23,
   "metadata": {},
   "outputs": [
    {
     "data": {
      "image/png": "[encoded data removed]",
      "text/plain": [
       "<Figure size 432x288 with 1 Axes>"
      ]
     },
     "metadata": {
      "needs_background": "light"
     },
     "output_type": "display_data"
    }
   ],
   "source": [
    "subjects = list(set(scores['Subject']))\n",
    "passing = []\n",
    "notpassing = []\n",
    "y = {}\n",
    "for i in subjects:\n",
    "    x = scores[scores['Subject'] == i]\n",
    "    passing.append(len(x[x['Passing'] == 'Passing']))\n",
    "    notpassing.append(len(x[x['Passing'] == 'Did not pass']))\n",
    "\n",
    "y['subjects'] = subjects\n",
    "y['passing'] = passing\n",
    "y['notpassing'] = notpassing\n",
    "\n",
    "df = pd.DataFrame.from_dict(y)\n",
    "df = df.set_index('subjects')\n",
    "\n",
    "df.plot(kind='bar',stacked=True)\n",
    "plt.title('Count of students passing')\n",
    "plt.show();"
   ]
  },
  {
   "cell_type": "markdown",
   "metadata": {},
   "source": [
    "Inspecting the passing rates, we see that Computer Science had a whopping 100% pass rate! There is a trend that the courses with lower participation rates tend to have higher passing rates, with the exception of Environmental Science."
   ]
  },
  {
   "cell_type": "code",
   "execution_count": 24,
   "metadata": {},
   "outputs": [
    {
     "data": {
      "image/png": "[encoded data removed]",
      "text/plain": [
       "<Figure size 432x288 with 1 Axes>"
      ]
     },
     "metadata": {
      "needs_background": "light"
     },
     "output_type": "display_data"
    }
   ],
   "source": [
    "df['passrate'] = (df['passing'] / (df['passing'] + df['notpassing']))*100\n",
    "df = df.sort_values('passrate', ascending=False)\n",
    "\n",
    "df['passrate'].plot(kind='bar')\n",
    "plt.title('Pass Rate of test takers')\n",
    "plt.ylabel('Percentage of pass rate')\n",
    "plt.show();"
   ]
  },
  {
   "cell_type": "code",
   "execution_count": null,
   "metadata": {},
   "outputs": [],
   "source": []
  }
 ],
 "metadata": {
  "kernelspec": {
   "display_name": "Python [conda env:learn-env] *",
   "language": "python",
   "name": "conda-env-learn-env-py"
  },
  "language_info": {
   "codemirror_mode": {
    "name": "ipython",
    "version": 3
   },
   "file_extension": ".py",
   "mimetype": "text/x-python",
   "name": "python",
   "nbconvert_exporter": "python",
   "pygments_lexer": "ipython3",
   "version": "3.6.9"
  }
 },
 "nbformat": 4,
 "nbformat_minor": 2
}
