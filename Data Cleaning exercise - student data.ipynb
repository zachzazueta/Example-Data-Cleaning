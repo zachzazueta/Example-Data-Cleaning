{
 "cells": [
  {
   "cell_type": "markdown",
   "metadata": {},
   "source": [
    "# Data Cleaning for Student Data\n",
    "\n",
    "## Deliverable\n",
    "### The final sheet will have the following:\n",
    "1) Student Number  \n",
    "2) Score  \n",
    "3) Subject  \n",
    "4) High School  \n",
    "5) Graduating cohort year  \n",
    "- If a student was in 12th grade in 2017-18, they are in the graduating cohort of 2018  \n",
    "  \n",
    "6) A flag indicating if the student passed the exam\n",
    "- An AP exam score of 3, 4, or 5 is considered passing  \n",
    "  \n",
    "7) Demographic information on each student/exam combination including:  \n",
    "- FRPL (Free or Reduced Price Lunch) status  \n",
    "- Ethnicity  \n",
    "- Gender\n",
    "  \n",
    "8) Teacher Name\n",
    "\n",
    "## Key Takeaways\n",
    "### Data Integretity\n",
    "- The AP Results sheet had a number of duplicate values (multiple rows of a student-test pair), with two instances of students having varied scores for the same test.\n",
    "- The Teacher sheet was missing a teacher for English Lang & Composition at HS3.\n",
    "- The student sheet included one student classified as 'Z' for Ethnicity (assuming this is an error).\n",
    "\n",
    "The solution for cleaning these would be to 1). Better understand the query that pulled in the score data and remove duplicates at the top 2). Update the data source for teacher-subject pairings 3). Consider a dropdown menu for data entry in the student information system for fields like Ethnicity that should be normalized.\n",
    "\n",
    "### Summary - See additional Data Viz at the bottom\n",
    "- Of the 5 High Schools in this data, 3 had students take AP tests in 2018.\n",
    "- 10th, 11th, and 12th graders took AP tests\n",
    "- We end with information about 639 tests taken.\n",
    "- HS1 had the highest passing rate (around 61%) and HS3 had the lowest (around 40%).\n",
    "- There is a healthy mix of courses taken, but there seems to be a trend that AP courses with lower participation rates have higher passing rates.\n",
    "- Not FRPL students had a slightly higher passing rate than FRPL students, a difference of 3.2%."
   ]
  },
  {
   "cell_type": "code",
   "execution_count": 1,
   "metadata": {},
   "outputs": [],
   "source": [
    "#Import necessary libraries\n",
    "\n",
    "import pandas as pd\n",
    "import numpy as np\n",
    "import matplotlib.pyplot as plt\n",
    "%matplotlib inline\n",
    "import seaborn as sns"
   ]
  },
  {
   "cell_type": "code",
   "execution_count": 2,
   "metadata": {},
   "outputs": [],
   "source": [
    "#Read in the provided data sheets\n",
    "xls = pd.ExcelFile('Data_Preparation_Exercise.xlsx')\n",
    "df_ap = pd.read_excel(xls, 'AP Results')\n",
    "df_teacher = pd.read_excel(xls, 'Teacher')\n",
    "df_student = pd.read_excel(xls, 'Student Roster')"
   ]
  },
  {
   "cell_type": "code",
   "execution_count": 3,
   "metadata": {
    "scrolled": true
   },
   "outputs": [
    {
     "name": "stdout",
     "output_type": "stream",
     "text": [
      "301001142    7\n",
      "303000108    7\n",
      "301001053    7\n",
      "301001058    7\n",
      "301001368    7\n",
      "            ..\n",
      "205707094    1\n",
      "204228225    1\n",
      "301001350    1\n",
      "303001004    1\n",
      "204936744    1\n",
      "Name: Student Number, Length: 334, dtype: int64\n",
      "2    267\n",
      "3    229\n",
      "1    101\n",
      "4     92\n",
      "5     31\n",
      "Name: Score, dtype: int64\n",
      "World History                   244\n",
      "US History                      157\n",
      "Biology                          96\n",
      "English Lit and Composition      51\n",
      "English Lang and Composition     35\n",
      "Calc AB                          33\n",
      "Environmental Science            27\n",
      "Calc BC                          24\n",
      "US Gov and Politics              20\n",
      "Chemistry                        19\n",
      "Computer Science A               14\n",
      "Name: Subject, dtype: int64\n",
      "1    641\n",
      "0     79\n",
      "Name: Unnamed: 3, dtype: int64\n",
      "9th Grade     507\n",
      "10th Grade    258\n",
      "11th Grade    211\n",
      "12th Grade    134\n",
      "Name: Grade, dtype: int64\n",
      "HS1    410\n",
      "HS3    398\n",
      "HS2    185\n",
      "HS5     78\n",
      "HS4     39\n",
      "Name: School, dtype: int64\n",
      "205174782    1\n",
      "205376163    1\n",
      "301001369    1\n",
      "214190746    1\n",
      "301001260    1\n",
      "            ..\n",
      "207398207    1\n",
      "205413693    1\n",
      "205948219    1\n",
      "301001301    1\n",
      "301001265    1\n",
      "Name: Student ID, Length: 1110, dtype: int64\n",
      "F    616\n",
      "M    494\n",
      "Name: Gender, dtype: int64\n",
      "Black       906\n",
      "Hispanic    194\n",
      "Asian         5\n",
      "White         4\n",
      "Z             1\n",
      "Name: Ethnicity, dtype: int64\n",
      "F      370\n",
      "FDC    312\n",
      "P      237\n",
      "R      191\n",
      "Name: Lunch Status, dtype: int64\n",
      "World History                   3\n",
      "Biology                         3\n",
      "US History                      3\n",
      "Calc AB                         2\n",
      "Calc BC                         1\n",
      "US Gov and Politics             1\n",
      "Chemistry                       1\n",
      "English Lit and Composition     1\n",
      "Environmental Science           1\n",
      "English Lang and Composition    1\n",
      "Computer Science A              1\n",
      "Name: Subject, dtype: int64\n",
      "HS1    9\n",
      "HS3    6\n",
      "HS2    3\n",
      "Name: School, dtype: int64\n",
      "Oktani       1\n",
      "Slaughter    1\n",
      "Smith        1\n",
      "Peiser       1\n",
      "Stenson      1\n",
      "McGovern     1\n",
      "Lee          1\n",
      "Herrera      1\n",
      "Ramirez      1\n",
      "Maestas      1\n",
      "Liang        1\n",
      "Reese        1\n",
      "Morgan       1\n",
      "Amos         1\n",
      "Rametti      1\n",
      "Reddy        1\n",
      "Harris       1\n",
      "Monteiro     1\n",
      "Name: Teacher, dtype: int64\n",
      "US HistoryHS2                      1\n",
      "English Lang and CompositionHS1    1\n",
      "BiologyHS1                         1\n",
      "BiologyHS3                         1\n",
      "US HistoryHS1                      1\n",
      "Calc ABHS3                         1\n",
      "ChemistryHS1                       1\n",
      "US HistoryHS3                      1\n",
      "Environmental ScienceHS3           1\n",
      "World HistoryHS3                   1\n",
      "World HistoryHS1                   1\n",
      "Computer Science AHS1              1\n",
      "Calc BCHS1                         1\n",
      "English Lit and CompositionHS1     1\n",
      "World HistoryHS2                   1\n",
      "Calc ABHS1                         1\n",
      "US Gov and PoliticsHS3             1\n",
      "BiologyHS2                         1\n",
      "Name: Unnamed: 3, dtype: int64\n"
     ]
    }
   ],
   "source": [
    "#Inspect value counts across the data and inspect for potential errors\n",
    "x = [df_ap, df_student, df_teacher]\n",
    "\n",
    "for i in x:\n",
    "    for j in i.columns:\n",
    "        print(i[j].value_counts())"
   ]
  },
  {
   "cell_type": "markdown",
   "metadata": {},
   "source": [
    "#### Initial Takeaways\n",
    "\n",
    "AP\n",
    "- Multiple instances of students taking more than one test - tests taken max is 7, min is 1. Still want to double check student subject duplicates.\n",
    "- Mostly 2's and 3's for score.\n",
    "- Don't appear to be any naming mismatches in tests.\n",
    "\n",
    "Student\n",
    "- Roster is heavy on 9th graders, likely due to grade growth at the smaller schools (HS4 and HS5) but would want to clarify.\n",
    "- No duplicate student Ids.\n",
    "- One student classified as Z for Ethnicity - will drop.\n",
    "- Assuming that coding for Lunch Status is - Free(F), Reduced(R), Paid in full(P), Free Direct Certified(FDC) - F, R, & FDC will class as FRPL.\n",
    "\n",
    "Teacher\n",
    "- No teachers at HS4 and HS5 signifies there are no AP courses taught there.\n",
    "- No duplicate teachers.\n",
    "- No naming mismatch in courses."
   ]
  },
  {
   "cell_type": "code",
   "execution_count": 4,
   "metadata": {
    "scrolled": true
   },
   "outputs": [
    {
     "name": "stdout",
     "output_type": "stream",
     "text": [
      "<class 'pandas.core.frame.DataFrame'>\n",
      "RangeIndex: 720 entries, 0 to 719\n",
      "Data columns (total 4 columns):\n",
      "Student Number    720 non-null int64\n",
      "Score             720 non-null int64\n",
      "Subject           720 non-null object\n",
      "Unnamed: 3        720 non-null int64\n",
      "dtypes: int64(3), object(1)\n",
      "memory usage: 22.6+ KB\n",
      "None\n",
      "//\n",
      "<class 'pandas.core.frame.DataFrame'>\n",
      "RangeIndex: 1110 entries, 0 to 1109\n",
      "Data columns (total 6 columns):\n",
      "Grade           1110 non-null object\n",
      "School          1110 non-null object\n",
      "Student ID      1110 non-null int64\n",
      "Gender          1110 non-null object\n",
      "Ethnicity       1110 non-null object\n",
      "Lunch Status    1110 non-null object\n",
      "dtypes: int64(1), object(5)\n",
      "memory usage: 52.2+ KB\n",
      "None\n",
      "//\n",
      "<class 'pandas.core.frame.DataFrame'>\n",
      "RangeIndex: 18 entries, 0 to 17\n",
      "Data columns (total 4 columns):\n",
      "Subject       18 non-null object\n",
      "School        18 non-null object\n",
      "Teacher       18 non-null object\n",
      "Unnamed: 3    18 non-null object\n",
      "dtypes: object(4)\n",
      "memory usage: 704.0+ bytes\n",
      "None\n",
      "//\n"
     ]
    }
   ],
   "source": [
    "#Checking for null values, inspecting data types\n",
    "for i in x:\n",
    "    print(i.info())\n",
    "    print('//')"
   ]
  },
  {
   "cell_type": "markdown",
   "metadata": {},
   "source": [
    "This is a double check there are no null values - there are not. Having already inspected the values, we know there are no outliers and can begin to manipulate the data."
   ]
  },
  {
   "cell_type": "markdown",
   "metadata": {},
   "source": [
    "### Data cleaning"
   ]
  },
  {
   "cell_type": "code",
   "execution_count": 5,
   "metadata": {},
   "outputs": [
    {
     "data": {
      "text/plain": [
       "205192396Biology                  3\n",
       "219498318Biology                  2\n",
       "204258966US History               2\n",
       "215509670US History               2\n",
       "205174782World History            2\n",
       "                                 ..\n",
       "207774696Environmental Science    1\n",
       "207903279World History            1\n",
       "301001368Calc BC                  1\n",
       "303000105Computer Science A       1\n",
       "301001053Biology                  1\n",
       "Name: check, Length: 639, dtype: int64"
      ]
     },
     "execution_count": 5,
     "metadata": {},
     "output_type": "execute_result"
    }
   ],
   "source": [
    "#The number of APs that some students had (7) seemed high for one year - let's c\n",
    "#heck for duplicate rows (same subject, student id, and score) in the AP table\n",
    "df_ap['check'] = df_ap['Student Number'].astype('str') + df_ap['Subject']\n",
    "df_ap.check.value_counts()"
   ]
  },
  {
   "cell_type": "code",
   "execution_count": 6,
   "metadata": {},
   "outputs": [
    {
     "name": "stdout",
     "output_type": "stream",
     "text": [
      "720\n"
     ]
    },
    {
     "data": {
      "text/plain": [
       "719"
      ]
     },
     "execution_count": 6,
     "metadata": {},
     "output_type": "execute_result"
    }
   ],
   "source": [
    "#This function will see if all values in a row are duplicated in another row - we drop \n",
    "#79 instances of duplicated values\n",
    "print(len(df_ap))\n",
    "df_ap = df_ap.drop_duplicates()\n",
    "len(df_ap)"
   ]
  },
  {
   "cell_type": "code",
   "execution_count": 7,
   "metadata": {},
   "outputs": [
    {
     "data": {
      "text/plain": [
       "219498318Biology                  2\n",
       "205214851US History               2\n",
       "215509670US History               2\n",
       "205174782World History            2\n",
       "303000145World History            2\n",
       "                                 ..\n",
       "207774696Environmental Science    1\n",
       "207903279World History            1\n",
       "301001368Calc BC                  1\n",
       "303000105Computer Science A       1\n",
       "301001053Biology                  1\n",
       "Name: check, Length: 639, dtype: int64"
      ]
     },
     "execution_count": 7,
     "metadata": {},
     "output_type": "execute_result"
    }
   ],
   "source": [
    "#Run a final check for duplicates in our check column\n",
    "df_ap.check.value_counts()"
   ]
  },
  {
   "cell_type": "markdown",
   "metadata": {},
   "source": [
    "There are still two students with duplicate subjects, however these seem to have different scores for the same test. Let's inspect that:"
   ]
  },
  {
   "cell_type": "code",
   "execution_count": 8,
   "metadata": {},
   "outputs": [
    {
     "data": {
      "text/html": [
       "<div>\n",
       "<style scoped>\n",
       "    .dataframe tbody tr th:only-of-type {\n",
       "        vertical-align: middle;\n",
       "    }\n",
       "\n",
       "    .dataframe tbody tr th {\n",
       "        vertical-align: top;\n",
       "    }\n",
       "\n",
       "    .dataframe thead th {\n",
       "        text-align: right;\n",
       "    }\n",
       "</style>\n",
       "<table border=\"1\" class=\"dataframe\">\n",
       "  <thead>\n",
       "    <tr style=\"text-align: right;\">\n",
       "      <th></th>\n",
       "      <th>Student Number</th>\n",
       "      <th>Score</th>\n",
       "      <th>Subject</th>\n",
       "      <th>Unnamed: 3</th>\n",
       "      <th>check</th>\n",
       "    </tr>\n",
       "  </thead>\n",
       "  <tbody>\n",
       "    <tr>\n",
       "      <td>131</td>\n",
       "      <td>204899629</td>\n",
       "      <td>1</td>\n",
       "      <td>World History</td>\n",
       "      <td>1</td>\n",
       "      <td>204899629World History</td>\n",
       "    </tr>\n",
       "    <tr>\n",
       "      <td>132</td>\n",
       "      <td>204899629</td>\n",
       "      <td>2</td>\n",
       "      <td>World History</td>\n",
       "      <td>1</td>\n",
       "      <td>204899629World History</td>\n",
       "    </tr>\n",
       "    <tr>\n",
       "      <td>218</td>\n",
       "      <td>206316473</td>\n",
       "      <td>1</td>\n",
       "      <td>World History</td>\n",
       "      <td>1</td>\n",
       "      <td>206316473World History</td>\n",
       "    </tr>\n",
       "    <tr>\n",
       "      <td>219</td>\n",
       "      <td>206316473</td>\n",
       "      <td>2</td>\n",
       "      <td>World History</td>\n",
       "      <td>1</td>\n",
       "      <td>206316473World History</td>\n",
       "    </tr>\n",
       "  </tbody>\n",
       "</table>\n",
       "</div>"
      ],
      "text/plain": [
       "     Student Number  Score        Subject  Unnamed: 3                   check\n",
       "131       204899629      1  World History           1  204899629World History\n",
       "132       204899629      2  World History           1  204899629World History\n",
       "218       206316473      1  World History           1  206316473World History\n",
       "219       206316473      2  World History           1  206316473World History"
      ]
     },
     "execution_count": 8,
     "metadata": {},
     "output_type": "execute_result"
    }
   ],
   "source": [
    "#Inspect the two students with duplicate test names\n",
    "df_ap[(df_ap['Student Number'] == 206316473) | (df_ap['Student Number'] == 204899629)]"
   ]
  },
  {
   "cell_type": "code",
   "execution_count": 9,
   "metadata": {},
   "outputs": [],
   "source": [
    "#I am dropping the lower score, giving students the benefit of the doubt for this exercise.\n",
    "df_ap = df_ap.drop([381, 606])"
   ]
  },
  {
   "cell_type": "markdown",
   "metadata": {},
   "source": [
    "### Data Engineering"
   ]
  },
  {
   "cell_type": "code",
   "execution_count": 10,
   "metadata": {},
   "outputs": [],
   "source": [
    "#First, merge the df_student dataframe to the df_ap dataframe. This is a left Join, \n",
    "#keeping all students who have AP score data and dropping those who had no test data. \n",
    "#Join on Student ID/Student Number\n",
    "\n",
    "scores = df_ap.merge(df_student, how='left', left_on='Student Number', right_on='Student ID')"
   ]
  },
  {
   "cell_type": "code",
   "execution_count": 11,
   "metadata": {},
   "outputs": [
    {
     "data": {
      "text/plain": [
       "US HistoryHS2                      1\n",
       "English Lang and CompositionHS1    1\n",
       "BiologyHS1                         1\n",
       "BiologyHS3                         1\n",
       "US HistoryHS1                      1\n",
       "Calc ABHS3                         1\n",
       "ChemistryHS1                       1\n",
       "US HistoryHS3                      1\n",
       "Environmental ScienceHS3           1\n",
       "World HistoryHS3                   1\n",
       "World HistoryHS1                   1\n",
       "Computer Science AHS1              1\n",
       "Calc BCHS1                         1\n",
       "English Lit and CompositionHS1     1\n",
       "World HistoryHS2                   1\n",
       "Calc ABHS1                         1\n",
       "US Gov and PoliticsHS3             1\n",
       "BiologyHS2                         1\n",
       "Name: teachkey, dtype: int64"
      ]
     },
     "execution_count": 11,
     "metadata": {},
     "output_type": "execute_result"
    }
   ],
   "source": [
    "#Generate a merge key to join the df_teacher table to scores on. Do this by concatenating \n",
    "#school and subject\n",
    "df_teacher['teachkey'] = df_teacher['Subject']+df_teacher['School']\n",
    "\n",
    "#Need to double check the key is unique and there are not multiple teachers per the same \n",
    "#AP subject at each school\n",
    "df_teacher['teachkey'].value_counts()"
   ]
  },
  {
   "cell_type": "code",
   "execution_count": 12,
   "metadata": {},
   "outputs": [],
   "source": [
    "#There aren't, so I'm okay to generate a similar key for the scores table and join \n",
    "#teacher name on that key\n",
    "scores['teachkey'] = scores['Subject']+scores['School']\n",
    "\n",
    "#Merge teacher information from df_teacher\n",
    "scores = scores.merge(df_teacher, how='left', on='teachkey')"
   ]
  },
  {
   "cell_type": "code",
   "execution_count": 13,
   "metadata": {},
   "outputs": [],
   "source": [
    "#Generate fields for Graduating cohort year, FRPL status, and passing using basic conditionals\n",
    "\n",
    "scores['Graduating'] = ['2018' if i == '12th Grade' else '2019' if i == '11th Grade' else '2020' \n",
    "                        if i == '10th Grade' else '2021' for i in scores['Grade']]\n",
    "\n",
    "scores['FRPL'] = ['Not FRPL' if i == 'P' else 'FRPL' for i in scores['Lunch Status']]\n",
    "\n",
    "scores['Passing'] = ['Passing' if i > 2 else 'Did not pass' for i in scores['Score']]"
   ]
  },
  {
   "cell_type": "code",
   "execution_count": 14,
   "metadata": {},
   "outputs": [
    {
     "data": {
      "text/plain": [
       "Index(['Student Number', 'Score', 'Subject_x', 'Unnamed: 3_x', 'check',\n",
       "       'Grade', 'School_x', 'Student ID', 'Gender', 'Ethnicity',\n",
       "       'Lunch Status', 'teachkey', 'Subject_y', 'School_y', 'Teacher',\n",
       "       'Unnamed: 3_y', 'Graduating', 'FRPL', 'Passing'],\n",
       "      dtype='object')"
      ]
     },
     "execution_count": 14,
     "metadata": {},
     "output_type": "execute_result"
    }
   ],
   "source": [
    "#Print column names to restructure the table for final output \n",
    "scores.columns"
   ]
  },
  {
   "cell_type": "code",
   "execution_count": 15,
   "metadata": {},
   "outputs": [],
   "source": [
    "#Restructure and rename the fields\n",
    "scores = scores[['Student Number', 'Score', 'Subject_x', 'School_x', 'Graduating', \n",
    "                 'Passing', 'FRPL', 'Ethnicity', 'Gender', 'Teacher']]\n",
    "\n",
    "scores = scores.rename(columns={\"Subject_x\": \"Subject\", \"School_x\": \"High School\", \n",
    "                                \"Graduating\": \"Grad cohort year\"})\n",
    "\n",
    "#Sort the dataframe by Student Number to group student scores\n",
    "scores = scores.sort_values('Student Number')"
   ]
  },
  {
   "cell_type": "code",
   "execution_count": 16,
   "metadata": {},
   "outputs": [
    {
     "data": {
      "text/html": [
       "<div>\n",
       "<style scoped>\n",
       "    .dataframe tbody tr th:only-of-type {\n",
       "        vertical-align: middle;\n",
       "    }\n",
       "\n",
       "    .dataframe tbody tr th {\n",
       "        vertical-align: top;\n",
       "    }\n",
       "\n",
       "    .dataframe thead th {\n",
       "        text-align: right;\n",
       "    }\n",
       "</style>\n",
       "<table border=\"1\" class=\"dataframe\">\n",
       "  <thead>\n",
       "    <tr style=\"text-align: right;\">\n",
       "      <th></th>\n",
       "      <th>Student Number</th>\n",
       "      <th>Score</th>\n",
       "      <th>Subject</th>\n",
       "      <th>High School</th>\n",
       "      <th>Grad cohort year</th>\n",
       "      <th>Passing</th>\n",
       "      <th>FRPL</th>\n",
       "      <th>Ethnicity</th>\n",
       "      <th>Gender</th>\n",
       "      <th>Teacher</th>\n",
       "    </tr>\n",
       "  </thead>\n",
       "  <tbody>\n",
       "    <tr>\n",
       "      <td>0</td>\n",
       "      <td>142021427</td>\n",
       "      <td>3</td>\n",
       "      <td>Biology</td>\n",
       "      <td>HS1</td>\n",
       "      <td>2018</td>\n",
       "      <td>Passing</td>\n",
       "      <td>Not FRPL</td>\n",
       "      <td>Black</td>\n",
       "      <td>F</td>\n",
       "      <td>Smith</td>\n",
       "    </tr>\n",
       "    <tr>\n",
       "      <td>1</td>\n",
       "      <td>142021427</td>\n",
       "      <td>1</td>\n",
       "      <td>Calc AB</td>\n",
       "      <td>HS1</td>\n",
       "      <td>2018</td>\n",
       "      <td>Did not pass</td>\n",
       "      <td>Not FRPL</td>\n",
       "      <td>Black</td>\n",
       "      <td>F</td>\n",
       "      <td>Ramirez</td>\n",
       "    </tr>\n",
       "    <tr>\n",
       "      <td>2</td>\n",
       "      <td>142021427</td>\n",
       "      <td>4</td>\n",
       "      <td>US History</td>\n",
       "      <td>HS1</td>\n",
       "      <td>2018</td>\n",
       "      <td>Passing</td>\n",
       "      <td>Not FRPL</td>\n",
       "      <td>Black</td>\n",
       "      <td>F</td>\n",
       "      <td>Peiser</td>\n",
       "    </tr>\n",
       "    <tr>\n",
       "      <td>3</td>\n",
       "      <td>142021427</td>\n",
       "      <td>1</td>\n",
       "      <td>World History</td>\n",
       "      <td>HS1</td>\n",
       "      <td>2018</td>\n",
       "      <td>Did not pass</td>\n",
       "      <td>Not FRPL</td>\n",
       "      <td>Black</td>\n",
       "      <td>F</td>\n",
       "      <td>Maestas</td>\n",
       "    </tr>\n",
       "    <tr>\n",
       "      <td>4</td>\n",
       "      <td>200051324</td>\n",
       "      <td>2</td>\n",
       "      <td>Biology</td>\n",
       "      <td>HS3</td>\n",
       "      <td>2018</td>\n",
       "      <td>Did not pass</td>\n",
       "      <td>FRPL</td>\n",
       "      <td>Black</td>\n",
       "      <td>F</td>\n",
       "      <td>Slaughter</td>\n",
       "    </tr>\n",
       "    <tr>\n",
       "      <td>...</td>\n",
       "      <td>...</td>\n",
       "      <td>...</td>\n",
       "      <td>...</td>\n",
       "      <td>...</td>\n",
       "      <td>...</td>\n",
       "      <td>...</td>\n",
       "      <td>...</td>\n",
       "      <td>...</td>\n",
       "      <td>...</td>\n",
       "      <td>...</td>\n",
       "    </tr>\n",
       "    <tr>\n",
       "      <td>713</td>\n",
       "      <td>700000043</td>\n",
       "      <td>3</td>\n",
       "      <td>English Lit and Composition</td>\n",
       "      <td>HS1</td>\n",
       "      <td>2019</td>\n",
       "      <td>Passing</td>\n",
       "      <td>Not FRPL</td>\n",
       "      <td>Black</td>\n",
       "      <td>F</td>\n",
       "      <td>Herrera</td>\n",
       "    </tr>\n",
       "    <tr>\n",
       "      <td>712</td>\n",
       "      <td>700000043</td>\n",
       "      <td>3</td>\n",
       "      <td>English Lit and Composition</td>\n",
       "      <td>HS1</td>\n",
       "      <td>2019</td>\n",
       "      <td>Passing</td>\n",
       "      <td>Not FRPL</td>\n",
       "      <td>Black</td>\n",
       "      <td>F</td>\n",
       "      <td>Herrera</td>\n",
       "    </tr>\n",
       "    <tr>\n",
       "      <td>714</td>\n",
       "      <td>700000043</td>\n",
       "      <td>3</td>\n",
       "      <td>World History</td>\n",
       "      <td>HS1</td>\n",
       "      <td>2019</td>\n",
       "      <td>Passing</td>\n",
       "      <td>Not FRPL</td>\n",
       "      <td>Black</td>\n",
       "      <td>F</td>\n",
       "      <td>Maestas</td>\n",
       "    </tr>\n",
       "    <tr>\n",
       "      <td>715</td>\n",
       "      <td>700000058</td>\n",
       "      <td>2</td>\n",
       "      <td>Chemistry</td>\n",
       "      <td>HS1</td>\n",
       "      <td>2019</td>\n",
       "      <td>Did not pass</td>\n",
       "      <td>FRPL</td>\n",
       "      <td>Black</td>\n",
       "      <td>M</td>\n",
       "      <td>Harris</td>\n",
       "    </tr>\n",
       "    <tr>\n",
       "      <td>716</td>\n",
       "      <td>8268663994</td>\n",
       "      <td>2</td>\n",
       "      <td>World History</td>\n",
       "      <td>HS1</td>\n",
       "      <td>2020</td>\n",
       "      <td>Did not pass</td>\n",
       "      <td>FRPL</td>\n",
       "      <td>Black</td>\n",
       "      <td>F</td>\n",
       "      <td>Maestas</td>\n",
       "    </tr>\n",
       "  </tbody>\n",
       "</table>\n",
       "<p>717 rows × 10 columns</p>\n",
       "</div>"
      ],
      "text/plain": [
       "     Student Number  Score                      Subject High School  \\\n",
       "0         142021427      3                      Biology         HS1   \n",
       "1         142021427      1                      Calc AB         HS1   \n",
       "2         142021427      4                   US History         HS1   \n",
       "3         142021427      1                World History         HS1   \n",
       "4         200051324      2                      Biology         HS3   \n",
       "..              ...    ...                          ...         ...   \n",
       "713       700000043      3  English Lit and Composition         HS1   \n",
       "712       700000043      3  English Lit and Composition         HS1   \n",
       "714       700000043      3                World History         HS1   \n",
       "715       700000058      2                    Chemistry         HS1   \n",
       "716      8268663994      2                World History         HS1   \n",
       "\n",
       "    Grad cohort year       Passing      FRPL Ethnicity Gender    Teacher  \n",
       "0               2018       Passing  Not FRPL     Black      F      Smith  \n",
       "1               2018  Did not pass  Not FRPL     Black      F    Ramirez  \n",
       "2               2018       Passing  Not FRPL     Black      F     Peiser  \n",
       "3               2018  Did not pass  Not FRPL     Black      F    Maestas  \n",
       "4               2018  Did not pass      FRPL     Black      F  Slaughter  \n",
       "..               ...           ...       ...       ...    ...        ...  \n",
       "713             2019       Passing  Not FRPL     Black      F    Herrera  \n",
       "712             2019       Passing  Not FRPL     Black      F    Herrera  \n",
       "714             2019       Passing  Not FRPL     Black      F    Maestas  \n",
       "715             2019  Did not pass      FRPL     Black      M     Harris  \n",
       "716             2020  Did not pass      FRPL     Black      F    Maestas  \n",
       "\n",
       "[717 rows x 10 columns]"
      ]
     },
     "execution_count": 16,
     "metadata": {},
     "output_type": "execute_result"
    }
   ],
   "source": [
    "#Preview the final table\n",
    "scores"
   ]
  },
  {
   "cell_type": "markdown",
   "metadata": {},
   "source": [
    "### Final Inspection"
   ]
  },
  {
   "cell_type": "code",
   "execution_count": 17,
   "metadata": {
    "scrolled": false
   },
   "outputs": [
    {
     "name": "stdout",
     "output_type": "stream",
     "text": [
      "<class 'pandas.core.frame.DataFrame'>\n",
      "Int64Index: 717 entries, 0 to 716\n",
      "Data columns (total 10 columns):\n",
      "Student Number      717 non-null int64\n",
      "Score               717 non-null int64\n",
      "Subject             717 non-null object\n",
      "High School         717 non-null object\n",
      "Grad cohort year    717 non-null object\n",
      "Passing             717 non-null object\n",
      "FRPL                717 non-null object\n",
      "Ethnicity           717 non-null object\n",
      "Gender              717 non-null object\n",
      "Teacher             704 non-null object\n",
      "dtypes: int64(2), object(8)\n",
      "memory usage: 61.6+ KB\n"
     ]
    }
   ],
   "source": [
    "scores.info()"
   ]
  },
  {
   "cell_type": "markdown",
   "metadata": {},
   "source": [
    "We see there are null values in the Teacher column - it looks like there was no teacher listed for English Lang and Composition at UCHS. For now, I am keeping this data, assuming the data can easily be filled into the Teacher table prior to an upload and knowing that score information is more important than the one column with missing values."
   ]
  },
  {
   "cell_type": "code",
   "execution_count": 18,
   "metadata": {},
   "outputs": [
    {
     "data": {
      "text/html": [
       "<div>\n",
       "<style scoped>\n",
       "    .dataframe tbody tr th:only-of-type {\n",
       "        vertical-align: middle;\n",
       "    }\n",
       "\n",
       "    .dataframe tbody tr th {\n",
       "        vertical-align: top;\n",
       "    }\n",
       "\n",
       "    .dataframe thead th {\n",
       "        text-align: right;\n",
       "    }\n",
       "</style>\n",
       "<table border=\"1\" class=\"dataframe\">\n",
       "  <thead>\n",
       "    <tr style=\"text-align: right;\">\n",
       "      <th></th>\n",
       "      <th>Student Number</th>\n",
       "      <th>Score</th>\n",
       "      <th>Subject</th>\n",
       "      <th>High School</th>\n",
       "      <th>Grad cohort year</th>\n",
       "      <th>Passing</th>\n",
       "      <th>FRPL</th>\n",
       "      <th>Ethnicity</th>\n",
       "      <th>Gender</th>\n",
       "      <th>Teacher</th>\n",
       "    </tr>\n",
       "  </thead>\n",
       "  <tbody>\n",
       "    <tr>\n",
       "      <td>5</td>\n",
       "      <td>200051324</td>\n",
       "      <td>4</td>\n",
       "      <td>English Lang and Composition</td>\n",
       "      <td>HS3</td>\n",
       "      <td>2018</td>\n",
       "      <td>Passing</td>\n",
       "      <td>FRPL</td>\n",
       "      <td>Black</td>\n",
       "      <td>F</td>\n",
       "      <td>NaN</td>\n",
       "    </tr>\n",
       "    <tr>\n",
       "      <td>16</td>\n",
       "      <td>201823614</td>\n",
       "      <td>2</td>\n",
       "      <td>English Lang and Composition</td>\n",
       "      <td>HS3</td>\n",
       "      <td>2018</td>\n",
       "      <td>Did not pass</td>\n",
       "      <td>FRPL</td>\n",
       "      <td>Black</td>\n",
       "      <td>F</td>\n",
       "      <td>NaN</td>\n",
       "    </tr>\n",
       "    <tr>\n",
       "      <td>42</td>\n",
       "      <td>203089842</td>\n",
       "      <td>4</td>\n",
       "      <td>English Lang and Composition</td>\n",
       "      <td>HS3</td>\n",
       "      <td>2018</td>\n",
       "      <td>Passing</td>\n",
       "      <td>FRPL</td>\n",
       "      <td>Black</td>\n",
       "      <td>F</td>\n",
       "      <td>NaN</td>\n",
       "    </tr>\n",
       "    <tr>\n",
       "      <td>52</td>\n",
       "      <td>203371976</td>\n",
       "      <td>4</td>\n",
       "      <td>English Lang and Composition</td>\n",
       "      <td>HS3</td>\n",
       "      <td>2018</td>\n",
       "      <td>Passing</td>\n",
       "      <td>FRPL</td>\n",
       "      <td>Black</td>\n",
       "      <td>F</td>\n",
       "      <td>NaN</td>\n",
       "    </tr>\n",
       "    <tr>\n",
       "      <td>79</td>\n",
       "      <td>204010599</td>\n",
       "      <td>2</td>\n",
       "      <td>English Lang and Composition</td>\n",
       "      <td>HS3</td>\n",
       "      <td>2018</td>\n",
       "      <td>Did not pass</td>\n",
       "      <td>Not FRPL</td>\n",
       "      <td>Hispanic</td>\n",
       "      <td>F</td>\n",
       "      <td>NaN</td>\n",
       "    </tr>\n",
       "    <tr>\n",
       "      <td>204</td>\n",
       "      <td>206026312</td>\n",
       "      <td>2</td>\n",
       "      <td>English Lang and Composition</td>\n",
       "      <td>HS3</td>\n",
       "      <td>2018</td>\n",
       "      <td>Did not pass</td>\n",
       "      <td>FRPL</td>\n",
       "      <td>Black</td>\n",
       "      <td>F</td>\n",
       "      <td>NaN</td>\n",
       "    </tr>\n",
       "    <tr>\n",
       "      <td>309</td>\n",
       "      <td>215509670</td>\n",
       "      <td>2</td>\n",
       "      <td>English Lang and Composition</td>\n",
       "      <td>HS3</td>\n",
       "      <td>2018</td>\n",
       "      <td>Did not pass</td>\n",
       "      <td>FRPL</td>\n",
       "      <td>Black</td>\n",
       "      <td>F</td>\n",
       "      <td>NaN</td>\n",
       "    </tr>\n",
       "    <tr>\n",
       "      <td>349</td>\n",
       "      <td>270039415</td>\n",
       "      <td>2</td>\n",
       "      <td>English Lang and Composition</td>\n",
       "      <td>HS3</td>\n",
       "      <td>2018</td>\n",
       "      <td>Did not pass</td>\n",
       "      <td>FRPL</td>\n",
       "      <td>Black</td>\n",
       "      <td>F</td>\n",
       "      <td>NaN</td>\n",
       "    </tr>\n",
       "    <tr>\n",
       "      <td>352</td>\n",
       "      <td>270081946</td>\n",
       "      <td>2</td>\n",
       "      <td>English Lang and Composition</td>\n",
       "      <td>HS3</td>\n",
       "      <td>2018</td>\n",
       "      <td>Did not pass</td>\n",
       "      <td>FRPL</td>\n",
       "      <td>Hispanic</td>\n",
       "      <td>M</td>\n",
       "      <td>NaN</td>\n",
       "    </tr>\n",
       "    <tr>\n",
       "      <td>363</td>\n",
       "      <td>270485832</td>\n",
       "      <td>3</td>\n",
       "      <td>English Lang and Composition</td>\n",
       "      <td>HS3</td>\n",
       "      <td>2018</td>\n",
       "      <td>Passing</td>\n",
       "      <td>Not FRPL</td>\n",
       "      <td>Black</td>\n",
       "      <td>F</td>\n",
       "      <td>NaN</td>\n",
       "    </tr>\n",
       "    <tr>\n",
       "      <td>370</td>\n",
       "      <td>274080092</td>\n",
       "      <td>2</td>\n",
       "      <td>English Lang and Composition</td>\n",
       "      <td>HS3</td>\n",
       "      <td>2018</td>\n",
       "      <td>Did not pass</td>\n",
       "      <td>FRPL</td>\n",
       "      <td>Black</td>\n",
       "      <td>F</td>\n",
       "      <td>NaN</td>\n",
       "    </tr>\n",
       "    <tr>\n",
       "      <td>395</td>\n",
       "      <td>275078293</td>\n",
       "      <td>2</td>\n",
       "      <td>English Lang and Composition</td>\n",
       "      <td>HS3</td>\n",
       "      <td>2018</td>\n",
       "      <td>Did not pass</td>\n",
       "      <td>FRPL</td>\n",
       "      <td>Black</td>\n",
       "      <td>F</td>\n",
       "      <td>NaN</td>\n",
       "    </tr>\n",
       "    <tr>\n",
       "      <td>400</td>\n",
       "      <td>275078996</td>\n",
       "      <td>4</td>\n",
       "      <td>English Lang and Composition</td>\n",
       "      <td>HS3</td>\n",
       "      <td>2018</td>\n",
       "      <td>Passing</td>\n",
       "      <td>FRPL</td>\n",
       "      <td>Black</td>\n",
       "      <td>M</td>\n",
       "      <td>NaN</td>\n",
       "    </tr>\n",
       "  </tbody>\n",
       "</table>\n",
       "</div>"
      ],
      "text/plain": [
       "     Student Number  Score                       Subject High School  \\\n",
       "5         200051324      4  English Lang and Composition         HS3   \n",
       "16        201823614      2  English Lang and Composition         HS3   \n",
       "42        203089842      4  English Lang and Composition         HS3   \n",
       "52        203371976      4  English Lang and Composition         HS3   \n",
       "79        204010599      2  English Lang and Composition         HS3   \n",
       "204       206026312      2  English Lang and Composition         HS3   \n",
       "309       215509670      2  English Lang and Composition         HS3   \n",
       "349       270039415      2  English Lang and Composition         HS3   \n",
       "352       270081946      2  English Lang and Composition         HS3   \n",
       "363       270485832      3  English Lang and Composition         HS3   \n",
       "370       274080092      2  English Lang and Composition         HS3   \n",
       "395       275078293      2  English Lang and Composition         HS3   \n",
       "400       275078996      4  English Lang and Composition         HS3   \n",
       "\n",
       "    Grad cohort year       Passing      FRPL Ethnicity Gender Teacher  \n",
       "5               2018       Passing      FRPL     Black      F     NaN  \n",
       "16              2018  Did not pass      FRPL     Black      F     NaN  \n",
       "42              2018       Passing      FRPL     Black      F     NaN  \n",
       "52              2018       Passing      FRPL     Black      F     NaN  \n",
       "79              2018  Did not pass  Not FRPL  Hispanic      F     NaN  \n",
       "204             2018  Did not pass      FRPL     Black      F     NaN  \n",
       "309             2018  Did not pass      FRPL     Black      F     NaN  \n",
       "349             2018  Did not pass      FRPL     Black      F     NaN  \n",
       "352             2018  Did not pass      FRPL  Hispanic      M     NaN  \n",
       "363             2018       Passing  Not FRPL     Black      F     NaN  \n",
       "370             2018  Did not pass      FRPL     Black      F     NaN  \n",
       "395             2018  Did not pass      FRPL     Black      F     NaN  \n",
       "400             2018       Passing      FRPL     Black      M     NaN  "
      ]
     },
     "execution_count": 18,
     "metadata": {},
     "output_type": "execute_result"
    }
   ],
   "source": [
    "scores[scores['Teacher'].isna()]"
   ]
  },
  {
   "cell_type": "code",
   "execution_count": 19,
   "metadata": {},
   "outputs": [],
   "source": [
    "#Export data to Excel sheet for data load\n",
    "scores.to_excel('Zazueta.Zach.DataPrepTask.xlsx', index=False)"
   ]
  },
  {
   "cell_type": "markdown",
   "metadata": {},
   "source": [
    "### Lite Data Viz"
   ]
  },
  {
   "cell_type": "markdown",
   "metadata": {},
   "source": [
    "The below Violin plot shows the density of score distributions across graduating year cohort, with size of the overall plots representing the total proportion of students in the stated grad year taking AP tests.\n",
    "\n",
    "We can see that Seniors (2018) and Juniors (2019) have median score (white dot) of 3 while Sophomores have a median score of 2. There were more seniors taking AP tests than Juniors, and Juniors were followed by Sophomores. Seniors were more likely to score a 2 than a 3, while Juniors and Sophomores were about as likely to score a 3 as they were a 2."
   ]
  },
  {
   "cell_type": "code",
   "execution_count": 20,
   "metadata": {},
   "outputs": [
    {
     "data": {
      "image/png": "[encoded data removed]",
      "text/plain": [
       "<Figure size 720x432 with 1 Axes>"
      ]
     },
     "metadata": {
      "needs_background": "light"
     },
     "output_type": "display_data"
    }
   ],
   "source": [
    "plt.figure(figsize=(10,6))\n",
    "sns.violinplot(x='Grad cohort year', y='Score', data=scores, scale='count');"
   ]
  },
  {
   "cell_type": "markdown",
   "metadata": {},
   "source": [
    "In the below breakout by grad year, we can see that HS1 had the highest average score across all grades. Juniors at HS2 performed better on average than Juniors at HS3, however Sophomores at HS3 outperformed those at HS2 (in terms of average score).\n",
    "\n",
    "HS1 and HS3 seem to have a consistent average score across all grade levels, while HS2 Juniors appear to outperform Sophomores."
   ]
  },
  {
   "cell_type": "code",
   "execution_count": 21,
   "metadata": {},
   "outputs": [
    {
     "data": {
      "text/plain": [
       "<Figure size 1152x864 with 0 Axes>"
      ]
     },
     "metadata": {},
     "output_type": "display_data"
    },
    {
     "data": {
      "image/png": "[encoded data removed]",
      "text/plain": [
       "<Figure size 1080x360 with 3 Axes>"
      ]
     },
     "metadata": {
      "needs_background": "light"
     },
     "output_type": "display_data"
    }
   ],
   "source": [
    "plt.figure(figsize=(16,12))\n",
    "sns.catplot(x='High School', y='Score', col='Grad cohort year', data=scores, kind='bar');"
   ]
  },
  {
   "cell_type": "markdown",
   "metadata": {},
   "source": [
    "The below stacked bar chart shows the counts of test takers who passed vs those who did not pass at each school, frpl designation, gender, and ethnicity. \n",
    "\n",
    "It is clear that HS1 had the most test takes, while HS2 had the least. HS1 had the highest pass rate (around 60%) while HS3 fell around 40%.\n",
    "\n",
    "Non-FRPL students had a slightly higher (~3.2%) pass rate.\n",
    "\n",
    "There were significantly more female students taking AP tests, however they had a slightly lower pass rate than their male counterparts.\n",
    "\n",
    "The Asian students who took AP tests were significantly fewer than the Hispanic and Black test takers, however they saw pass rates above 80% while Hispanic and Black student cohorts passed at similar rates near 50%."
   ]
  },
  {
   "cell_type": "code",
   "execution_count": 22,
   "metadata": {},
   "outputs": [
    {
     "data": {
      "image/png": "[encoded data removed]",
      "text/plain": [
       "<Figure size 1008x1728 with 8 Axes>"
      ]
     },
     "metadata": {
      "needs_background": "light"
     },
     "output_type": "display_data"
    }
   ],
   "source": [
    "fig, axs = plt.subplots(4,2, figsize = (14,24))\n",
    "plt.subplots_adjust(wspace=0.6, hspace=0.6)\n",
    "\n",
    "schools = list(set(scores['High School']))\n",
    "frpl = list(set(scores['FRPL']))\n",
    "gender = list(set(scores['Gender']))\n",
    "ethnicity = list(set(scores['Ethnicity']))\n",
    "\n",
    "metrics = {'High School': schools, 'FRPL': frpl, 'Gender': gender, \n",
    "           'Ethnicity': ethnicity}\n",
    "\n",
    "a = 0\n",
    "\n",
    "for i, j in enumerate(metrics.keys()):\n",
    "    passing = []\n",
    "    notpassing = []\n",
    "    y = {}\n",
    "    z = metrics[j]\n",
    "    for k in z:\n",
    "        x = scores[scores[j] == k]\n",
    "        passing.append(len(x[x['Passing'] == 'Passing']))\n",
    "        notpassing.append(len(x[x['Passing'] == 'Did not pass']))\n",
    "        \n",
    "    y[j] = z\n",
    "    y['passing'] = passing\n",
    "    y['notpassing'] = notpassing\n",
    "    \n",
    "    N = len(passing)\n",
    "    ind = np.arange(N)\n",
    "    ticks = list(range(N))\n",
    "\n",
    "    df = pd.DataFrame.from_dict(y)\n",
    "    df = df.set_index(j)\n",
    "\n",
    "    axs[a,0].bar(ind, df['passing'], width=0.6)\n",
    "    axs[a,0].bar(ind, df['notpassing'], bottom=df.passing, width=0.6)\n",
    "    axs[a,0].set_title('Count of test takers')\n",
    "    axs[a,0].set_xlabel(j)\n",
    "    axs[a,0].set_xticks(ticks)\n",
    "    axs[a,0].set_xticklabels(z, fontdict = {'rotation': 45})\n",
    "    \n",
    "    df['passrate'] = (df['passing'] / (df['passing'] + df['notpassing']))*100\n",
    "    \n",
    "    axs[a,1].bar(ind, df['passrate'], width=0.6)\n",
    "    axs[a,1].set_title('Percentage of students passing')\n",
    "    axs[a,1].set_xlabel(j)\n",
    "    axs[a,1].set_xticks(ticks)\n",
    "    axs[a,1].set_xticklabels(z, fontdict = {'rotation': 45})\n",
    "    a += 1"
   ]
  },
  {
   "cell_type": "markdown",
   "metadata": {},
   "source": [
    "Taking a quick look at subjects, we can see that World and US History are the courses with the highest participation rates, with STEM courses having the lowest participation rates."
   ]
  },
  {
   "cell_type": "code",
   "execution_count": 23,
   "metadata": {},
   "outputs": [
    {
     "data": {
      "image/png": "[encoded data removed]",
      "text/plain": [
       "<Figure size 432x288 with 1 Axes>"
      ]
     },
     "metadata": {
      "needs_background": "light"
     },
     "output_type": "display_data"
    }
   ],
   "source": [
    "subjects = list(set(scores['Subject']))\n",
    "passing = []\n",
    "notpassing = []\n",
    "y = {}\n",
    "for i in subjects:\n",
    "    x = scores[scores['Subject'] == i]\n",
    "    passing.append(len(x[x['Passing'] == 'Passing']))\n",
    "    notpassing.append(len(x[x['Passing'] == 'Did not pass']))\n",
    "\n",
    "y['subjects'] = subjects\n",
    "y['passing'] = passing\n",
    "y['notpassing'] = notpassing\n",
    "\n",
    "df = pd.DataFrame.from_dict(y)\n",
    "df = df.set_index('subjects')\n",
    "\n",
    "df.plot(kind='bar',stacked=True)\n",
    "plt.title('Count of students passing')\n",
    "plt.show();"
   ]
  },
  {
   "cell_type": "markdown",
   "metadata": {},
   "source": [
    "Inspecting the passing rates, we see that Computer Science had a whopping 100% pass rate! There is a trend that the courses with lower participation rates tend to have higher passing rates, with the exception of Environmental Science."
   ]
  },
  {
   "cell_type": "code",
   "execution_count": 24,
   "metadata": {},
   "outputs": [
    {
     "data": {
      "image/png": "[encoded data removed]",
      "text/plain": [
       "<Figure size 432x288 with 1 Axes>"
      ]
     },
     "metadata": {
      "needs_background": "light"
     },
     "output_type": "display_data"
    }
   ],
   "source": [
    "df['passrate'] = (df['passing'] / (df['passing'] + df['notpassing']))*100\n",
    "df = df.sort_values('passrate', ascending=False)\n",
    "\n",
    "df['passrate'].plot(kind='bar')\n",
    "plt.title('Pass Rate of test takers')\n",
    "plt.ylabel('Percentage of pass rate')\n",
    "plt.show();"
   ]
  },
  {
   "cell_type": "code",
   "execution_count": null,
   "metadata": {},
   "outputs": [],
   "source": []
  }
 ],
 "metadata": {
  "kernelspec": {
   "display_name": "Python [conda env:learn-env] *",
   "language": "python",
   "name": "conda-env-learn-env-py"
  },
  "language_info": {
   "codemirror_mode": {
    "name": "ipython",
    "version": 3
   },
   "file_extension": ".py",
   "mimetype": "text/x-python",
   "name": "python",
   "nbconvert_exporter": "python",
   "pygments_lexer": "ipython3",
   "version": "3.6.9"
  }
 },
 "nbformat": 4,
 "nbformat_minor": 2
}
